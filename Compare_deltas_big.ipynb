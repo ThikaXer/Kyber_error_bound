{
 "cells": [
  {
   "cell_type": "code",
   "execution_count": 30,
   "id": "11019ac9-b7f7-4935-a0e4-fc0c2431dd3a",
   "metadata": {},
   "outputs": [],
   "source": [
    "import sys\n",
    "sys.path.append(\"./Delta_by_Ducas\")\n",
    "from Kyber import *\n",
    "# This is the implementation by Leo Ducas (source https://github.com/pq-crystals/security-estimates, relevant files in subfolder 'Delta_by_Ducas')\n",
    "import sample_delta_1 as delta1\n",
    "# import import_ipynb\n",
    "# from sample_delta.ipynb import *\n",
    "import matplotlib.pyplot as plt\n",
    "import pandas as pd"
   ]
  },
  {
   "cell_type": "code",
   "execution_count": 13,
   "id": "a7a704c3",
   "metadata": {},
   "outputs": [
    {
     "name": "stdout",
     "output_type": "stream",
     "text": [
      "n =  5 q =  61\n",
      "failure using Ducaz script: 0.09021 = 2^-3.47\n"
     ]
    },
    {
     "name": "stderr",
     "output_type": "stream",
     "text": [
      "100%|██████████| 10/10 [00:12<00:00,  1.24s/it]\n"
     ]
    },
    {
     "name": "stdout",
     "output_type": "stream",
     "text": [
      "failure using sampling: 0.12957 = 2^-2.95\n"
     ]
    },
    {
     "name": "stderr",
     "output_type": "stream",
     "text": [
      "100%|██████████| 10/10 [00:12<00:00,  1.23s/it]\n"
     ]
    },
    {
     "name": "stdout",
     "output_type": "stream",
     "text": [
      "original failure: 0.10588 = 2^-3.24\n",
      "n =  6 q =  73\n",
      "failure using Ducaz script: 0.07815 = 2^-3.68\n"
     ]
    },
    {
     "name": "stderr",
     "output_type": "stream",
     "text": [
      "100%|██████████| 10/10 [00:16<00:00,  1.68s/it]\n"
     ]
    },
    {
     "name": "stdout",
     "output_type": "stream",
     "text": [
      "failure using sampling: 0.11166 = 2^-3.16\n"
     ]
    },
    {
     "name": "stderr",
     "output_type": "stream",
     "text": [
      "100%|██████████| 10/10 [00:17<00:00,  1.73s/it]\n"
     ]
    },
    {
     "name": "stdout",
     "output_type": "stream",
     "text": [
      "original failure: 0.09115 = 2^-3.46\n",
      "n =  7 q =  89\n",
      "failure using Ducaz script: 0.05288 = 2^-4.24\n"
     ]
    },
    {
     "name": "stderr",
     "output_type": "stream",
     "text": [
      "100%|██████████| 10/10 [00:23<00:00,  2.39s/it]\n"
     ]
    },
    {
     "name": "stdout",
     "output_type": "stream",
     "text": [
      "failure using sampling: 0.07786 = 2^-3.68\n"
     ]
    },
    {
     "name": "stderr",
     "output_type": "stream",
     "text": [
      "100%|██████████| 10/10 [00:24<00:00,  2.45s/it]\n"
     ]
    },
    {
     "name": "stdout",
     "output_type": "stream",
     "text": [
      "original failure: 0.06260 = 2^-4.00\n",
      "n =  8 q =  109\n",
      "failure using Ducaz script: 0.04233 = 2^-4.56\n"
     ]
    },
    {
     "name": "stderr",
     "output_type": "stream",
     "text": [
      "100%|██████████| 10/10 [00:30<00:00,  3.10s/it]\n"
     ]
    },
    {
     "name": "stdout",
     "output_type": "stream",
     "text": [
      "failure using sampling: 0.06228 = 2^-4.01\n"
     ]
    },
    {
     "name": "stderr",
     "output_type": "stream",
     "text": [
      "100%|██████████| 10/10 [00:31<00:00,  3.18s/it]\n"
     ]
    },
    {
     "name": "stdout",
     "output_type": "stream",
     "text": [
      "original failure: 0.05185 = 2^-4.27\n",
      "n =  9 q =  113\n",
      "failure using Ducaz script: 0.05938 = 2^-4.07\n"
     ]
    },
    {
     "name": "stderr",
     "output_type": "stream",
     "text": [
      "100%|██████████| 10/10 [00:54<00:00,  5.43s/it]\n"
     ]
    },
    {
     "name": "stdout",
     "output_type": "stream",
     "text": [
      "failure using sampling: 0.08260 = 2^-3.60\n"
     ]
    },
    {
     "name": "stderr",
     "output_type": "stream",
     "text": [
      "100%|██████████| 10/10 [00:57<00:00,  5.73s/it]\n"
     ]
    },
    {
     "name": "stdout",
     "output_type": "stream",
     "text": [
      "original failure: 0.07012 = 2^-3.83\n",
      "n =  10 q =  137\n",
      "failure using Ducaz script: 0.04420 = 2^-4.50\n"
     ]
    },
    {
     "name": "stderr",
     "output_type": "stream",
     "text": [
      "100%|██████████| 10/10 [01:24<00:00,  8.43s/it]\n"
     ]
    },
    {
     "name": "stdout",
     "output_type": "stream",
     "text": [
      "failure using sampling: 0.06267 = 2^-4.00\n"
     ]
    },
    {
     "name": "stderr",
     "output_type": "stream",
     "text": [
      "100%|██████████| 10/10 [01:26<00:00,  8.65s/it]\n"
     ]
    },
    {
     "name": "stdout",
     "output_type": "stream",
     "text": [
      "original failure: 0.05298 = 2^-4.24\n",
      "n =  11 q =  149\n",
      "failure using Ducaz script: 0.04479 = 2^-4.48\n"
     ]
    },
    {
     "name": "stderr",
     "output_type": "stream",
     "text": [
      "100%|██████████| 10/10 [02:07<00:00, 12.73s/it]\n"
     ]
    },
    {
     "name": "stdout",
     "output_type": "stream",
     "text": [
      "failure using sampling: 0.06456 = 2^-3.95\n"
     ]
    },
    {
     "name": "stderr",
     "output_type": "stream",
     "text": [
      "100%|██████████| 10/10 [02:13<00:00, 13.38s/it]\n"
     ]
    },
    {
     "name": "stdout",
     "output_type": "stream",
     "text": [
      "original failure: 0.05252 = 2^-4.25\n",
      "n =  12 q =  157\n",
      "failure using Ducaz script: 0.05014 = 2^-4.32\n"
     ]
    },
    {
     "name": "stderr",
     "output_type": "stream",
     "text": [
      "100%|██████████| 10/10 [03:14<00:00, 19.48s/it]\n"
     ]
    },
    {
     "name": "stdout",
     "output_type": "stream",
     "text": [
      "failure using sampling: 0.06974 = 2^-3.84\n"
     ]
    },
    {
     "name": "stderr",
     "output_type": "stream",
     "text": [
      "100%|██████████| 10/10 [03:24<00:00, 20.45s/it]\n"
     ]
    },
    {
     "name": "stdout",
     "output_type": "stream",
     "text": [
      "original failure: 0.05855 = 2^-4.09\n",
      "n =  13 q =  173\n",
      "failure using Ducaz script: 0.05764 = 2^-4.12\n"
     ]
    },
    {
     "name": "stderr",
     "output_type": "stream",
     "text": [
      "100%|██████████| 10/10 [05:19<00:00, 31.99s/it]\n"
     ]
    },
    {
     "name": "stdout",
     "output_type": "stream",
     "text": [
      "failure using sampling: 0.07917 = 2^-3.66\n"
     ]
    },
    {
     "name": "stderr",
     "output_type": "stream",
     "text": [
      "100%|██████████| 10/10 [05:31<00:00, 33.18s/it]\n"
     ]
    },
    {
     "name": "stdout",
     "output_type": "stream",
     "text": [
      "original failure: 0.06737 = 2^-3.89\n",
      "n =  14 q =  181\n",
      "failure using Ducaz script: 0.07090 = 2^-3.82\n"
     ]
    },
    {
     "name": "stderr",
     "output_type": "stream",
     "text": [
      "100%|██████████| 10/10 [08:54<00:00, 53.43s/it]\n"
     ]
    },
    {
     "name": "stdout",
     "output_type": "stream",
     "text": [
      "failure using sampling: 0.09351 = 2^-3.42\n"
     ]
    },
    {
     "name": "stderr",
     "output_type": "stream",
     "text": [
      "100%|██████████| 10/10 [08:38<00:00, 51.88s/it]\n"
     ]
    },
    {
     "name": "stdout",
     "output_type": "stream",
     "text": [
      "original failure: 0.08048 = 2^-3.64\n",
      "n =  15 q =  197\n",
      "failure using Ducaz script: 0.07547 = 2^-3.73\n"
     ]
    },
    {
     "name": "stderr",
     "output_type": "stream",
     "text": [
      "100%|██████████| 10/10 [14:32<00:00, 87.25s/it]\n"
     ]
    },
    {
     "name": "stdout",
     "output_type": "stream",
     "text": [
      "failure using sampling: 0.09928 = 2^-3.33\n"
     ]
    },
    {
     "name": "stderr",
     "output_type": "stream",
     "text": [
      "100%|██████████| 10/10 [15:49<00:00, 94.98s/it]\n"
     ]
    },
    {
     "name": "stdout",
     "output_type": "stream",
     "text": [
      "original failure: 0.08774 = 2^-3.51\n",
      "n =  16 q =  229\n",
      "failure using Ducaz script: 0.06426 = 2^-3.96\n"
     ]
    },
    {
     "name": "stderr",
     "output_type": "stream",
     "text": [
      "100%|██████████| 10/10 [25:31<00:00, 153.19s/it]\n"
     ]
    },
    {
     "name": "stdout",
     "output_type": "stream",
     "text": [
      "failure using sampling: 0.08498 = 2^-3.56\n"
     ]
    },
    {
     "name": "stderr",
     "output_type": "stream",
     "text": [
      "100%|██████████| 10/10 [28:27<00:00, 170.75s/it]"
     ]
    },
    {
     "name": "stdout",
     "output_type": "stream",
     "text": [
      "original failure: 0.07340 = 2^-3.77\n"
     ]
    },
    {
     "name": "stderr",
     "output_type": "stream",
     "text": [
      "\n"
     ]
    }
   ],
   "source": [
    "# What happens when varying n and q (keeping their ratio at ~13=3329/256, but respect that q is prime AND q=1 mod 4)\n",
    "\n",
    "failureDucaz3 = []\n",
    "failureSample3 = []\n",
    "failureOriginal3 = []\n",
    "\n",
    "ns3 = range(5,17)\n",
    "qs3 = [61, 73, 89, 109, 113, 137, 149, 157, 173, 181, 197, 229]\n",
    "\n",
    "for i in range(len(ns3)):\n",
    "    print(\"n = \", ns3[i], \"q = \", qs3[i])\n",
    "    n = ns3[i]\n",
    "    q = qs3[i]\n",
    "    (k, eta1, eta2, dt, du, dv) = (2,2,2,0,5,2)\n",
    "\n",
    "    # Delta according to script by Leo Ducaz\n",
    "    ps_test = KyberParameterSet(n, k, eta1, eta2, q, q, 2**du,2**dv)\n",
    "\n",
    "    F, f = p2_cyclotomic_error_probability(ps_test)\n",
    "    failureDucaz3.append(f)\n",
    "    print (\"failure using Ducaz script: %.5f = 2^%.2f\"%(f, log(f + 2.**(-300))/log(2)))\n",
    "\n",
    "    # delta' calculated via sampling\n",
    "    test = delta1.Kyber(n=n,k=k,q=q,eta1=eta1,du=du,dv=dv)\n",
    "    mean = delta1.estimate(test)\n",
    "    print (\"failure using sampling: %.5f = 2^%.2f\"%(mean, log(mean + 2.**(-300))/log(2)))\n",
    "    failureSample3.append(mean)\n",
    "\n",
    "    # original decryption error calculated via sampling\n",
    "    original = delta1.estimate_original(test)\n",
    "    print (\"original failure: %.5f = 2^%.2f\"%(original, log(original + 2.**(-300))/log(2)))\n",
    "    failureOriginal3.append(original)\n",
    "\n",
    "\n",
    "d3 = {'n': ns3, 'q': qs3, 'failureDucaz': failureDucaz3, 'failureSample': failureSample3, 'failureOriginal': failureOriginal3}\n",
    "df3 = pd.DataFrame(data=d3)\n",
    "df3.to_csv('data/failure_against_n_q_prime_mod_4_big.csv', index=False)"
   ]
  },
  {
   "cell_type": "code",
   "execution_count": 21,
   "id": "76675c64",
   "metadata": {},
   "outputs": [
    {
     "data": {
      "image/png": "[encoded data removed]",
      "text/plain": [
       "<Figure size 640x480 with 1 Axes>"
      ]
     },
     "metadata": {},
     "output_type": "display_data"
    }
   ],
   "source": [
    "plt.plot(df3.n, df3.failureDucaz, 'r', label='$\\delta$')\n",
    "plt.plot(df3.n, df3.failureSample, 'b', label='$\\delta\\'$')\n",
    "plt.plot(df3.n, df3.failureOriginal, 'g', label='correctness error')\n",
    "plt.xlabel('n, q ~= 13*n, q prime, q=1 mod 4')\n",
    "plt.ylabel('value')\n",
    "plt.legend()\n",
    "plt.title('Correctness error bounds in comparison')\n",
    "plt.savefig('figs/failure_prob_against_n_q_prime_mod_4_big.png')"
   ]
  },
  {
   "cell_type": "code",
   "execution_count": 15,
   "id": "c3cedcde",
   "metadata": {},
   "outputs": [
    {
     "data": {
      "image/png": "[encoded data removed]",
      "text/plain": [
       "<Figure size 800x300 with 3 Axes>"
      ]
     },
     "metadata": {},
     "output_type": "display_data"
    }
   ],
   "source": [
    "inter = [0.05,0.095]\n",
    "\n",
    "fig3, (ax1,ax2,ax3) = plt.subplots(1,3,figsize=(8,3))\n",
    "ax1.scatter(df3.failureDucaz, df3.failureSample)\n",
    "ax1.plot(inter,inter,'--')\n",
    "ax1.set_xlabel('$\\delta$')\n",
    "ax1.set_ylabel('$\\delta\\'$')\n",
    "ax1.set_aspect('equal')\n",
    "\n",
    "ax2.scatter(df3.failureOriginal, df3.failureSample)\n",
    "ax2.plot(inter,inter,'--')\n",
    "ax2.set_xlabel('correctness error')\n",
    "ax2.set_ylabel('$\\delta\\'$')\n",
    "ax2.set_aspect('equal')\n",
    "\n",
    "ax3.scatter(df3.failureOriginal, df3.failureDucaz)\n",
    "ax3.plot(inter,inter,'--')\n",
    "ax3.set_xlabel('correctness error')\n",
    "ax3.set_ylabel('$\\delta$')\n",
    "ax3.set_aspect('equal')\n",
    "\n",
    "fig3.suptitle('Relations between $\\delta$, $\\delta\\'$ and correctness error')\n",
    "fig3.tight_layout()\n",
    "fig3.savefig('figs/Ducaz_against_Sample_n_q_prime_mod_4_big.png')"
   ]
  },
  {
   "cell_type": "code",
   "execution_count": 18,
   "id": "bfc0d693",
   "metadata": {},
   "outputs": [
    {
     "name": "stdout",
     "output_type": "stream",
     "text": [
      "n =  4 q =  53\n",
      "failure using Ducaz script: 0.07760 = 2^-3.69\n"
     ]
    },
    {
     "name": "stderr",
     "output_type": "stream",
     "text": [
      "100%|██████████| 10/10 [00:09<00:00,  1.09it/s]\n"
     ]
    },
    {
     "name": "stdout",
     "output_type": "stream",
     "text": [
      "failure using sampling: 0.11724 = 2^-3.09\n"
     ]
    },
    {
     "name": "stderr",
     "output_type": "stream",
     "text": [
      "100%|██████████| 10/10 [00:08<00:00,  1.12it/s]\n"
     ]
    },
    {
     "name": "stdout",
     "output_type": "stream",
     "text": [
      "original failure: 0.09333 = 2^-3.42\n",
      "n =  4 q =  61\n",
      "failure using Ducaz script: 0.04442 = 2^-4.49\n"
     ]
    },
    {
     "name": "stderr",
     "output_type": "stream",
     "text": [
      "100%|██████████| 10/10 [00:09<00:00,  1.10it/s]\n"
     ]
    },
    {
     "name": "stdout",
     "output_type": "stream",
     "text": [
      "failure using sampling: 0.07201 = 2^-3.80\n"
     ]
    },
    {
     "name": "stderr",
     "output_type": "stream",
     "text": [
      "100%|██████████| 10/10 [00:09<00:00,  1.11it/s]\n"
     ]
    },
    {
     "name": "stdout",
     "output_type": "stream",
     "text": [
      "original failure: 0.05583 = 2^-4.16\n",
      "n =  5 q =  73\n",
      "failure using Ducaz script: 0.04233 = 2^-4.56\n"
     ]
    },
    {
     "name": "stderr",
     "output_type": "stream",
     "text": [
      "100%|██████████| 10/10 [00:12<00:00,  1.27s/it]\n"
     ]
    },
    {
     "name": "stdout",
     "output_type": "stream",
     "text": [
      "failure using sampling: 0.06768 = 2^-3.89\n"
     ]
    },
    {
     "name": "stderr",
     "output_type": "stream",
     "text": [
      "100%|██████████| 10/10 [00:12<00:00,  1.26s/it]\n"
     ]
    },
    {
     "name": "stdout",
     "output_type": "stream",
     "text": [
      "original failure: 0.05381 = 2^-4.22\n",
      "n =  6 q =  89\n",
      "failure using Ducaz script: 0.02997 = 2^-5.06\n"
     ]
    },
    {
     "name": "stderr",
     "output_type": "stream",
     "text": [
      "100%|██████████| 10/10 [00:16<00:00,  1.68s/it]\n"
     ]
    },
    {
     "name": "stdout",
     "output_type": "stream",
     "text": [
      "failure using sampling: 0.04830 = 2^-4.37\n"
     ]
    },
    {
     "name": "stderr",
     "output_type": "stream",
     "text": [
      "100%|██████████| 10/10 [00:17<00:00,  1.73s/it]\n"
     ]
    },
    {
     "name": "stdout",
     "output_type": "stream",
     "text": [
      "original failure: 0.03805 = 2^-4.72\n",
      "n =  7 q =  97\n",
      "failure using Ducaz script: 0.03481 = 2^-4.84\n"
     ]
    },
    {
     "name": "stderr",
     "output_type": "stream",
     "text": [
      "100%|██████████| 10/10 [00:24<00:00,  2.41s/it]\n"
     ]
    },
    {
     "name": "stdout",
     "output_type": "stream",
     "text": [
      "failure using sampling: 0.05675 = 2^-4.14\n"
     ]
    },
    {
     "name": "stderr",
     "output_type": "stream",
     "text": [
      "100%|██████████| 10/10 [00:24<00:00,  2.43s/it]\n"
     ]
    },
    {
     "name": "stdout",
     "output_type": "stream",
     "text": [
      "original failure: 0.04442 = 2^-4.49\n",
      "n =  7 q =  101\n",
      "failure using Ducaz script: 0.03138 = 2^-4.99\n"
     ]
    },
    {
     "name": "stderr",
     "output_type": "stream",
     "text": [
      "100%|██████████| 10/10 [00:24<00:00,  2.41s/it]\n"
     ]
    },
    {
     "name": "stdout",
     "output_type": "stream",
     "text": [
      "failure using sampling: 0.04720 = 2^-4.41\n"
     ]
    },
    {
     "name": "stderr",
     "output_type": "stream",
     "text": [
      "100%|██████████| 10/10 [00:25<00:00,  2.52s/it]\n"
     ]
    },
    {
     "name": "stdout",
     "output_type": "stream",
     "text": [
      "original failure: 0.03897 = 2^-4.68\n",
      "n =  8 q =  109\n",
      "failure using Ducaz script: 0.04233 = 2^-4.56\n"
     ]
    },
    {
     "name": "stderr",
     "output_type": "stream",
     "text": [
      "100%|██████████| 10/10 [00:37<00:00,  3.73s/it]\n"
     ]
    },
    {
     "name": "stdout",
     "output_type": "stream",
     "text": [
      "failure using sampling: 0.06080 = 2^-4.04\n"
     ]
    },
    {
     "name": "stderr",
     "output_type": "stream",
     "text": [
      "100%|██████████| 10/10 [00:33<00:00,  3.37s/it]\n"
     ]
    },
    {
     "name": "stdout",
     "output_type": "stream",
     "text": [
      "original failure: 0.05009 = 2^-4.32\n",
      "n =  8 q =  113\n",
      "failure using Ducaz script: 0.03803 = 2^-4.72\n"
     ]
    },
    {
     "name": "stderr",
     "output_type": "stream",
     "text": [
      "100%|██████████| 10/10 [00:35<00:00,  3.60s/it]\n"
     ]
    },
    {
     "name": "stdout",
     "output_type": "stream",
     "text": [
      "failure using sampling: 0.05497 = 2^-4.19\n"
     ]
    },
    {
     "name": "stderr",
     "output_type": "stream",
     "text": [
      "100%|██████████| 10/10 [00:36<00:00,  3.68s/it]\n"
     ]
    },
    {
     "name": "stdout",
     "output_type": "stream",
     "text": [
      "original failure: 0.04522 = 2^-4.47\n",
      "n =  10 q =  137\n",
      "failure using Ducaz script: 0.04420 = 2^-4.50\n"
     ]
    },
    {
     "name": "stderr",
     "output_type": "stream",
     "text": [
      "100%|██████████| 10/10 [01:24<00:00,  8.43s/it]\n"
     ]
    },
    {
     "name": "stdout",
     "output_type": "stream",
     "text": [
      "failure using sampling: 0.06496 = 2^-3.94\n"
     ]
    },
    {
     "name": "stderr",
     "output_type": "stream",
     "text": [
      "100%|██████████| 10/10 [01:30<00:00,  9.02s/it]\n"
     ]
    },
    {
     "name": "stdout",
     "output_type": "stream",
     "text": [
      "original failure: 0.05343 = 2^-4.23\n",
      "n =  11 q =  149\n",
      "failure using Ducaz script: 0.04479 = 2^-4.48\n"
     ]
    },
    {
     "name": "stderr",
     "output_type": "stream",
     "text": [
      "100%|██████████| 10/10 [02:08<00:00, 12.83s/it]\n"
     ]
    },
    {
     "name": "stdout",
     "output_type": "stream",
     "text": [
      "failure using sampling: 0.06293 = 2^-3.99\n"
     ]
    },
    {
     "name": "stderr",
     "output_type": "stream",
     "text": [
      "100%|██████████| 10/10 [02:23<00:00, 14.39s/it]\n"
     ]
    },
    {
     "name": "stdout",
     "output_type": "stream",
     "text": [
      "original failure: 0.05284 = 2^-4.24\n",
      "n =  12 q =  157\n",
      "failure using Ducaz script: 0.05014 = 2^-4.32\n"
     ]
    },
    {
     "name": "stderr",
     "output_type": "stream",
     "text": [
      "100%|██████████| 10/10 [03:20<00:00, 20.00s/it]\n"
     ]
    },
    {
     "name": "stdout",
     "output_type": "stream",
     "text": [
      "failure using sampling: 0.06844 = 2^-3.87\n"
     ]
    },
    {
     "name": "stderr",
     "output_type": "stream",
     "text": [
      "100%|██████████| 10/10 [03:31<00:00, 21.12s/it]\n"
     ]
    },
    {
     "name": "stdout",
     "output_type": "stream",
     "text": [
      "original failure: 0.06006 = 2^-4.06\n",
      "n =  13 q =  173\n",
      "failure using Ducaz script: 0.05764 = 2^-4.12\n"
     ]
    },
    {
     "name": "stderr",
     "output_type": "stream",
     "text": [
      "100%|██████████| 10/10 [05:28<00:00, 32.84s/it]\n"
     ]
    },
    {
     "name": "stdout",
     "output_type": "stream",
     "text": [
      "failure using sampling: 0.07811 = 2^-3.68\n"
     ]
    },
    {
     "name": "stderr",
     "output_type": "stream",
     "text": [
      "100%|██████████| 10/10 [05:21<00:00, 32.16s/it]\n"
     ]
    },
    {
     "name": "stdout",
     "output_type": "stream",
     "text": [
      "original failure: 0.06707 = 2^-3.90\n",
      "n =  13 q =  181\n",
      "failure using Ducaz script: 0.05272 = 2^-4.25\n"
     ]
    },
    {
     "name": "stderr",
     "output_type": "stream",
     "text": [
      "100%|██████████| 10/10 [04:52<00:00, 29.28s/it]\n"
     ]
    },
    {
     "name": "stdout",
     "output_type": "stream",
     "text": [
      "failure using sampling: 0.07287 = 2^-3.78\n"
     ]
    },
    {
     "name": "stderr",
     "output_type": "stream",
     "text": [
      "100%|██████████| 10/10 [04:51<00:00, 29.18s/it]\n"
     ]
    },
    {
     "name": "stdout",
     "output_type": "stream",
     "text": [
      "original failure: 0.06155 = 2^-4.02\n",
      "n =  14 q =  193\n",
      "failure using Ducaz script: 0.06079 = 2^-4.04\n"
     ]
    },
    {
     "name": "stderr",
     "output_type": "stream",
     "text": [
      "100%|██████████| 10/10 [08:02<00:00, 48.29s/it]\n"
     ]
    },
    {
     "name": "stdout",
     "output_type": "stream",
     "text": [
      "failure using sampling: 0.08147 = 2^-3.62\n"
     ]
    },
    {
     "name": "stderr",
     "output_type": "stream",
     "text": [
      "100%|██████████| 10/10 [08:53<00:00, 53.39s/it]\n"
     ]
    },
    {
     "name": "stdout",
     "output_type": "stream",
     "text": [
      "original failure: 0.07266 = 2^-3.78\n",
      "n =  15 q =  197\n",
      "failure using Ducaz script: 0.07547 = 2^-3.73\n"
     ]
    },
    {
     "name": "stderr",
     "output_type": "stream",
     "text": [
      "100%|██████████| 10/10 [15:03<00:00, 90.34s/it]\n"
     ]
    },
    {
     "name": "stdout",
     "output_type": "stream",
     "text": [
      "failure using sampling: 0.09879 = 2^-3.34\n"
     ]
    },
    {
     "name": "stderr",
     "output_type": "stream",
     "text": [
      "100%|██████████| 10/10 [16:34<00:00, 99.50s/it]\n"
     ]
    },
    {
     "name": "stdout",
     "output_type": "stream",
     "text": [
      "original failure: 0.08572 = 2^-3.54\n",
      "n =  16 q =  229\n",
      "failure using Ducaz script: 0.06426 = 2^-3.96\n"
     ]
    },
    {
     "name": "stderr",
     "output_type": "stream",
     "text": [
      "100%|██████████| 10/10 [26:37<00:00, 159.76s/it]\n"
     ]
    },
    {
     "name": "stdout",
     "output_type": "stream",
     "text": [
      "failure using sampling: 0.08507 = 2^-3.56\n"
     ]
    },
    {
     "name": "stderr",
     "output_type": "stream",
     "text": [
      "100%|██████████| 10/10 [29:54<00:00, 179.45s/it]\n"
     ]
    },
    {
     "name": "stdout",
     "output_type": "stream",
     "text": [
      "original failure: 0.07169 = 2^-3.80\n",
      "n =  16 q =  233\n",
      "failure using Ducaz script: 0.06384 = 2^-3.97\n"
     ]
    },
    {
     "name": "stderr",
     "output_type": "stream",
     "text": [
      "100%|██████████| 10/10 [27:14<00:00, 163.46s/it]\n"
     ]
    },
    {
     "name": "stdout",
     "output_type": "stream",
     "text": [
      "failure using sampling: 0.08648 = 2^-3.53\n"
     ]
    },
    {
     "name": "stderr",
     "output_type": "stream",
     "text": [
      "100%|██████████| 10/10 [29:59<00:00, 179.95s/it]"
     ]
    },
    {
     "name": "stdout",
     "output_type": "stream",
     "text": [
      "original failure: 0.07247 = 2^-3.79\n"
     ]
    },
    {
     "name": "stderr",
     "output_type": "stream",
     "text": [
      "\n"
     ]
    }
   ],
   "source": [
    "# What happens when varying q and n (keeping their ratio at ~13=3329/256, but respect that q is prime AND q=1 mod 4)\n",
    "\n",
    "failureDucaz4 = []\n",
    "failureSample4 = []\n",
    "failureOriginal4 = []\n",
    "\n",
    "ns4 = [4, 4, 5, 6, 7, 7, 8, 8, 10, 11, 12, 13, 13, 14, 15, 16, 16]\n",
    "qs4 = [53, 61, 73, 89, 97, 101, 109, 113, 137, 149, 157, 173, 181, 193, 197, 229, 233]\n",
    "\n",
    "for i in range(len(ns4)):\n",
    "    print(\"n = \", ns4[i], \"q = \", qs4[i])\n",
    "    n = ns4[i]\n",
    "    q = qs4[i]\n",
    "    (k, eta1, eta2, dt, du, dv) = (2,2,2,0,5,2)\n",
    "\n",
    "    # Delta according to script by Leo Ducaz\n",
    "    ps_test = KyberParameterSet(n, k, eta1, eta2, q, q, 2**du,2**dv)\n",
    "\n",
    "    F, f = p2_cyclotomic_error_probability(ps_test)\n",
    "    failureDucaz4.append(f)\n",
    "    print (\"failure using Ducaz script: %.5f = 2^%.2f\"%(f, log(f + 2.**(-300))/log(2)))\n",
    "\n",
    "    # delta' calculated via sampling\n",
    "    test = delta1.Kyber(n=n,k=k,q=q,eta1=eta1,du=du,dv=dv)\n",
    "    mean = delta1.estimate(test)\n",
    "    print (\"failure using sampling: %.5f = 2^%.2f\"%(mean, log(mean + 2.**(-300))/log(2)))\n",
    "    failureSample4.append(mean)\n",
    "\n",
    "    # original decryption error calculated via sampling\n",
    "    original = delta1.estimate_original(test)\n",
    "    print (\"original failure: %.5f = 2^%.2f\"%(original, log(original + 2.**(-300))/log(2)))\n",
    "    failureOriginal4.append(original)\n",
    "\n",
    "\n",
    "d4 = {'n': ns4, 'q': qs4, 'failureDucaz': failureDucaz4, 'failureSample': failureSample4, 'failureOriginal': failureOriginal4}\n",
    "df4 = pd.DataFrame(data=d4)\n",
    "df4.to_csv('data/failure_against_q_mod4_big.csv', index=False)"
   ]
  },
  {
   "cell_type": "code",
   "execution_count": 4,
   "id": "de923291",
   "metadata": {},
   "outputs": [
    {
     "data": {
      "image/png": "[encoded data removed]",
      "text/plain": [
       "<Figure size 640x480 with 1 Axes>"
      ]
     },
     "metadata": {},
     "output_type": "display_data"
    }
   ],
   "source": [
    "df4 = pd.read_csv('data/failure_against_q_mod4_big.csv')\n",
    "plt.plot(df4.q, df4.failureDucaz, 'r', label='$\\delta$')\n",
    "plt.plot(df4.q, df4.failureSample, 'b', label='$\\delta\\'$')\n",
    "plt.plot(df4.q, df4.failureOriginal, 'g', label='correctness error')\n",
    "plt.xlabel('q ~= 13*n, q prime, q=1 mod 4')\n",
    "plt.ylabel('value')\n",
    "plt.legend()\n",
    "plt.title('Correctness error bounds in comparison')\n",
    "plt.savefig('figs/failure_prob_against_q_mod4_big.png')"
   ]
  },
  {
   "cell_type": "code",
   "execution_count": 9,
   "id": "2f51493d",
   "metadata": {},
   "outputs": [
    {
     "data": {
      "image/png": "[encoded data removed]",
      "text/plain": [
       "<Figure size 800x300 with 3 Axes>"
      ]
     },
     "metadata": {},
     "output_type": "display_data"
    }
   ],
   "source": [
    "inter = [0.025,0.1]\n",
    "\n",
    "fig4, (ax1,ax2,ax3) = plt.subplots(1,3,figsize=(8,3))\n",
    "ax1.scatter(df4.failureDucaz, df4.failureSample)\n",
    "ax1.plot(inter,inter,'--')\n",
    "ax1.set_xlabel('$\\delta$')\n",
    "ax1.set_ylabel('$\\delta\\'$')\n",
    "ax1.set_aspect('equal')\n",
    "\n",
    "ax2.scatter(df4.failureOriginal, df4.failureSample)\n",
    "ax2.plot(inter,inter,'--')\n",
    "ax2.set_xlabel('correctness error')\n",
    "ax2.set_ylabel('$\\delta\\'$')\n",
    "ax2.set_aspect('equal')\n",
    "\n",
    "ax3.scatter(df4.failureOriginal, df4.failureDucaz)\n",
    "ax3.plot(inter,inter,'--')\n",
    "ax3.set_xlabel('correctness error')\n",
    "ax3.set_ylabel('$\\delta$')\n",
    "ax3.set_aspect('equal')\n",
    "\n",
    "fig4.suptitle('Relations between $\\delta$, $\\delta\\'$ and correctness error')\n",
    "fig4.tight_layout()\n",
    "fig4.savefig('figs/Ducaz_against_Sample_q_mod4_big.png')"
   ]
  },
  {
   "cell_type": "code",
   "execution_count": null,
   "id": "ed51b72a",
   "metadata": {},
   "outputs": [],
   "source": []
  }
 ],
 "metadata": {
  "kernelspec": {
   "display_name": "Python 3 (ipykernel)",
   "language": "python",
   "name": "python3"
  },
  "language_info": {
   "codemirror_mode": {
    "name": "ipython",
    "version": 3
   },
   "file_extension": ".py",
   "mimetype": "text/x-python",
   "name": "python",
   "nbconvert_exporter": "python",
   "pygments_lexer": "ipython3",
   "version": "3.8.10"
  }
 },
 "nbformat": 4,
 "nbformat_minor": 5
}
